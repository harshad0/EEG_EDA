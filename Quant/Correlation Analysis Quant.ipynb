{
 "cells": [
  {
   "cell_type": "code",
   "execution_count": 1,
   "metadata": {
    "collapsed": true
   },
   "outputs": [],
   "source": [
    "import pandas as pd\n",
    "from matplotlib import pyplot as plt"
   ]
  },
  {
   "cell_type": "code",
   "execution_count": 2,
   "metadata": {
    "collapsed": true
   },
   "outputs": [],
   "source": [
    "def calc_duration(n):\n",
    "    '''\n",
    "    Converts miliseconds to minutes\n",
    "    '''\n",
    "    return n/(1000*60)"
   ]
  },
  {
   "cell_type": "code",
   "execution_count": 3,
   "metadata": {},
   "outputs": [],
   "source": [
    "harshad = pd.read_csv('Harshad/HarshadQuant.csv')\n",
    "kevin = pd.read_csv('Kevin/KevinQuant.csv')"
   ]
  },
  {
   "cell_type": "code",
   "execution_count": 4,
   "metadata": {},
   "outputs": [
    {
     "name": "stdout",
     "output_type": "stream",
     "text": [
      "51.64508333333333 minutes\n"
     ]
    }
   ],
   "source": [
    "#dropping unnecessary columns\n",
    "harshad = harshad.drop(['poorSignal', 'blinkStrength', 'tagEvent', 'location'], axis = 1)\n",
    "\n",
    "#Shifting timestamp\n",
    "temp = harshad['timestampMs'][0]\n",
    "for i in range(len(harshad)):\n",
    "    harshad.at[i, 'timestampMs'] -= temp #Remember this functionality of dataframe\n",
    "\n",
    "print(calc_duration(harshad.iloc[len(harshad)-1][0]), 'minutes')\n",
    "\n",
    "#Cutting of starting and ending datapoints    \n",
    "#Assumption : Data collected at regular interval\n",
    "start_time = 15*60*(1000/100) # ex: 13 minutes\n",
    "end_time = 35*60*(1000/100)\n",
    "harshad = harshad.loc[start_time:end_time]"
   ]
  },
  {
   "cell_type": "code",
   "execution_count": 5,
   "metadata": {},
   "outputs": [
    {
     "name": "stdout",
     "output_type": "stream",
     "text": [
      "58.57608333333334 minutes\n"
     ]
    }
   ],
   "source": [
    "#dropping unnecessary columns\n",
    "kevin = kevin.drop(['poorSignal', 'blinkStrength', 'tagEvent', 'location'], axis = 1)\n",
    "\n",
    "#Shifting timestamp\n",
    "temp = kevin['timestampMs'][0]\n",
    "for i in range(len(kevin)):\n",
    "    kevin.at[i, 'timestampMs'] -= temp #Remember this functionality of dataframe\n",
    "\n",
    "print(calc_duration(kevin.iloc[len(kevin)-1][0]), 'minutes')\n",
    "\n",
    "#Cutting of starting and ending datapoints    \n",
    "#Assumption : Data collected at regular interval\n",
    "start_time = 15*60*(1000/100) # ex: 13 minutes\n",
    "end_time = 35*60*(1000/100)\n",
    "kevin = kevin.loc[start_time:end_time]"
   ]
  },
  {
   "cell_type": "code",
   "execution_count": 6,
   "metadata": {},
   "outputs": [
    {
     "data": {
      "text/plain": [
       "Index(['timestampMs', 'eegRawValue', 'eegRawValueVolts', 'attention',\n",
       "       'meditation', 'delta', 'theta', 'alphaLow', 'alphaHigh', 'betaLow',\n",
       "       'betaHigh', 'gammaLow', 'gammaMid'],\n",
       "      dtype='object')"
      ]
     },
     "execution_count": 6,
     "metadata": {},
     "output_type": "execute_result"
    }
   ],
   "source": [
    "harshad.columns"
   ]
  },
  {
   "cell_type": "code",
   "execution_count": 7,
   "metadata": {},
   "outputs": [
    {
     "name": "stdout",
     "output_type": "stream",
     "text": [
      "correlation between attention of kevin and harshad =  0.0928178448085074\n",
      "correlation between alphaHigh of kevin and harshad =  0.03341149858759365\n",
      "correlation between alphaLow of kevin and harshad =  0.02423112060948202\n",
      "correlation between theta of kevin and harshad =  0.02126925932548766\n",
      "correlation between betaHigh of kevin and harshad =  0.0177433683178687\n",
      "correlation between eegRawValueVolts of kevin and harshad =  0.012057016442049798\n",
      "correlation between eegRawValue of kevin and harshad =  0.012057016442049796\n",
      "correlation between gammaMid of kevin and harshad =  -0.010617946689869333\n",
      "correlation between gammaLow of kevin and harshad =  -0.013598089014940353\n",
      "correlation between meditation of kevin and harshad =  -0.017251897536023866\n",
      "correlation between delta of kevin and harshad =  -0.01871298753968695\n",
      "correlation between betaLow of kevin and harshad =  -0.04531597368652505\n"
     ]
    }
   ],
   "source": [
    "list_ = []\n",
    "for ele in harshad.columns[1:]:\n",
    "    list_.append([harshad[ele].corr(kevin[ele], method = 'pearson'), ele])\n",
    "list_.sort(reverse = True)\n",
    "for ele in list_:\n",
    "    print('correlation between', ele[1], 'of kevin and harshad = ', ele[0])"
   ]
  }
 ],
 "metadata": {
  "kernelspec": {
   "display_name": "Python 3",
   "language": "python",
   "name": "python3"
  },
  "language_info": {
   "codemirror_mode": {
    "name": "ipython",
    "version": 3
   },
   "file_extension": ".py",
   "mimetype": "text/x-python",
   "name": "python",
   "nbconvert_exporter": "python",
   "pygments_lexer": "ipython3",
   "version": "3.6.1"
  }
 },
 "nbformat": 4,
 "nbformat_minor": 2
}
