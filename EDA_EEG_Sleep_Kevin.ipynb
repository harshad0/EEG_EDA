{
 "cells": [
  {
   "cell_type": "code",
   "execution_count": 1,
   "metadata": {
    "collapsed": true
   },
   "outputs": [],
   "source": [
    "import pandas as pd\n",
    "from matplotlib import pyplot as plt\n",
    "import numpy as np"
   ]
  },
  {
   "cell_type": "code",
   "execution_count": 2,
   "metadata": {
    "collapsed": true
   },
   "outputs": [],
   "source": [
    "data = pd.read_csv('EEGID Record 2018-06-03_15_29_46_729 Kevin sleep.csv')"
   ]
  },
  {
   "cell_type": "code",
   "execution_count": 3,
   "metadata": {},
   "outputs": [
    {
     "data": {
      "text/html": [
       "<div>\n",
       "<style>\n",
       "    .dataframe thead tr:only-child th {\n",
       "        text-align: right;\n",
       "    }\n",
       "\n",
       "    .dataframe thead th {\n",
       "        text-align: left;\n",
       "    }\n",
       "\n",
       "    .dataframe tbody tr th {\n",
       "        vertical-align: top;\n",
       "    }\n",
       "</style>\n",
       "<table border=\"1\" class=\"dataframe\">\n",
       "  <thead>\n",
       "    <tr style=\"text-align: right;\">\n",
       "      <th></th>\n",
       "      <th>timestampMs</th>\n",
       "      <th>eegRawValue</th>\n",
       "      <th>eegRawValueVolts</th>\n",
       "      <th>attention</th>\n",
       "      <th>meditation</th>\n",
       "      <th>delta</th>\n",
       "      <th>theta</th>\n",
       "      <th>alphaLow</th>\n",
       "      <th>alphaHigh</th>\n",
       "      <th>betaLow</th>\n",
       "      <th>betaHigh</th>\n",
       "      <th>gammaLow</th>\n",
       "      <th>gammaMid</th>\n",
       "    </tr>\n",
       "  </thead>\n",
       "  <tbody>\n",
       "    <tr>\n",
       "      <th>0</th>\n",
       "      <td>0</td>\n",
       "      <td>53</td>\n",
       "      <td>1.164551e-05</td>\n",
       "      <td>69</td>\n",
       "      <td>69</td>\n",
       "      <td>16753540</td>\n",
       "      <td>11392</td>\n",
       "      <td>25601</td>\n",
       "      <td>8977</td>\n",
       "      <td>4441</td>\n",
       "      <td>4808</td>\n",
       "      <td>3250</td>\n",
       "      <td>1234</td>\n",
       "    </tr>\n",
       "    <tr>\n",
       "      <th>1</th>\n",
       "      <td>113</td>\n",
       "      <td>28</td>\n",
       "      <td>6.152344e-06</td>\n",
       "      <td>69</td>\n",
       "      <td>69</td>\n",
       "      <td>16753540</td>\n",
       "      <td>11392</td>\n",
       "      <td>25601</td>\n",
       "      <td>8977</td>\n",
       "      <td>4441</td>\n",
       "      <td>4808</td>\n",
       "      <td>3250</td>\n",
       "      <td>1234</td>\n",
       "    </tr>\n",
       "    <tr>\n",
       "      <th>2</th>\n",
       "      <td>213</td>\n",
       "      <td>54</td>\n",
       "      <td>1.186523e-05</td>\n",
       "      <td>69</td>\n",
       "      <td>69</td>\n",
       "      <td>16753540</td>\n",
       "      <td>11392</td>\n",
       "      <td>25601</td>\n",
       "      <td>8977</td>\n",
       "      <td>4441</td>\n",
       "      <td>4808</td>\n",
       "      <td>3250</td>\n",
       "      <td>1234</td>\n",
       "    </tr>\n",
       "    <tr>\n",
       "      <th>3</th>\n",
       "      <td>314</td>\n",
       "      <td>2</td>\n",
       "      <td>4.394531e-07</td>\n",
       "      <td>69</td>\n",
       "      <td>69</td>\n",
       "      <td>16753540</td>\n",
       "      <td>11392</td>\n",
       "      <td>25601</td>\n",
       "      <td>8977</td>\n",
       "      <td>4441</td>\n",
       "      <td>4808</td>\n",
       "      <td>3250</td>\n",
       "      <td>1234</td>\n",
       "    </tr>\n",
       "    <tr>\n",
       "      <th>4</th>\n",
       "      <td>414</td>\n",
       "      <td>68</td>\n",
       "      <td>1.494141e-05</td>\n",
       "      <td>69</td>\n",
       "      <td>69</td>\n",
       "      <td>16753540</td>\n",
       "      <td>11392</td>\n",
       "      <td>25601</td>\n",
       "      <td>8977</td>\n",
       "      <td>4441</td>\n",
       "      <td>4808</td>\n",
       "      <td>3250</td>\n",
       "      <td>1234</td>\n",
       "    </tr>\n",
       "  </tbody>\n",
       "</table>\n",
       "</div>"
      ],
      "text/plain": [
       "   timestampMs  eegRawValue  eegRawValueVolts  attention  meditation  \\\n",
       "0            0           53      1.164551e-05         69          69   \n",
       "1          113           28      6.152344e-06         69          69   \n",
       "2          213           54      1.186523e-05         69          69   \n",
       "3          314            2      4.394531e-07         69          69   \n",
       "4          414           68      1.494141e-05         69          69   \n",
       "\n",
       "      delta  theta  alphaLow  alphaHigh  betaLow  betaHigh  gammaLow  gammaMid  \n",
       "0  16753540  11392     25601       8977     4441      4808      3250      1234  \n",
       "1  16753540  11392     25601       8977     4441      4808      3250      1234  \n",
       "2  16753540  11392     25601       8977     4441      4808      3250      1234  \n",
       "3  16753540  11392     25601       8977     4441      4808      3250      1234  \n",
       "4  16753540  11392     25601       8977     4441      4808      3250      1234  "
      ]
     },
     "execution_count": 3,
     "metadata": {},
     "output_type": "execute_result"
    }
   ],
   "source": [
    "#dropping unnecessary columns\n",
    "data = data.drop(['poorSignal', 'blinkStrength', 'tagEvent', 'location'], axis = 1)\n",
    "\n",
    "#Shifting timestamp\n",
    "temp = data['timestampMs'][0]\n",
    "for i in range(len(data)):\n",
    "    data.at[i, 'timestampMs'] -= temp #Remember this functionality of dataframe\n",
    "\n",
    "\n",
    "#Cutting of starting and ending datapoints    \n",
    "#Assumption : Data collected at regular interval\n",
    "start_time = 13*60*(1000/100) # ex: 13 minutes\n",
    "end_time = 77*60*(1000/100)\n",
    "data = data.loc[start_time:end_time]\n",
    "\n",
    "#Resetting the dataframe indexing\n",
    "data.index = range(len(data))\n",
    "\n",
    "\n",
    "#Shifting timestamp again\n",
    "temp = data['timestampMs'][0]\n",
    "for i in range(len(data)):\n",
    "    data.at[i, 'timestampMs'] -= temp #Remember this functionality of dataframe\n",
    "\n",
    "data.head()"
   ]
  },
  {
   "cell_type": "code",
   "execution_count": 4,
   "metadata": {},
   "outputs": [],
   "source": [
    "#labelling the data\n",
    "y = np.zeros(len(data), dtype = int)\n",
    "start_activity = int(22*60*(1000/100))\n",
    "end_activity = int(47*60*(1000/100))\n",
    "y[start_activity:end_activity] = 1\n",
    "y = pd.Series(y)"
   ]
  },
  {
   "cell_type": "markdown",
   "metadata": {},
   "source": [
    "# Correlation of features with labels"
   ]
  },
  {
   "cell_type": "code",
   "execution_count": 5,
   "metadata": {},
   "outputs": [
    {
     "name": "stdout",
     "output_type": "stream",
     "text": [
      "Correlation with  timestampMs  =  0.10753335953232146\n",
      "Correlation with  eegRawValue  =  0.04364163696899584\n",
      "Correlation with  eegRawValueVolts  =  0.043641636968995826\n",
      "Correlation with  gammaLow  =  0.03418613078241084\n",
      "Correlation with  gammaMid  =  0.008420350394280799\n",
      "Correlation with  meditation  =  0.007608264350094387\n",
      "Correlation with  betaLow  =  0.00038368478516205795\n",
      "Correlation with  theta  =  -0.0073903693971127124\n",
      "Correlation with  betaHigh  =  -0.020017305256948188\n",
      "Correlation with  delta  =  -0.03881565023853908\n",
      "Correlation with  alphaHigh  =  -0.06320130994576158\n",
      "Correlation with  alphaLow  =  -0.10069031061738501\n",
      "Correlation with  attention  =  -0.1675903183972912\n"
     ]
    }
   ],
   "source": [
    "list_ = list()\n",
    "for ele in data.columns:\n",
    "    cor = data[ele].corr(y)\n",
    "    list_.append([cor, ele])\n",
    "list_.sort(reverse = True)\n",
    "for ele in list_:\n",
    "    print('Correlation with ', ele[1], ' = ', ele[0])"
   ]
  }
 ],
 "metadata": {
  "kernelspec": {
   "display_name": "Python 3",
   "language": "python",
   "name": "python3"
  },
  "language_info": {
   "codemirror_mode": {
    "name": "ipython",
    "version": 3
   },
   "file_extension": ".py",
   "mimetype": "text/x-python",
   "name": "python",
   "nbconvert_exporter": "python",
   "pygments_lexer": "ipython3",
   "version": "3.6.1"
  }
 },
 "nbformat": 4,
 "nbformat_minor": 2
}
